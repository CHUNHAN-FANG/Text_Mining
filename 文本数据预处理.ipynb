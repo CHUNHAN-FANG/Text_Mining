{
 "cells": [
  {
   "cell_type": "markdown",
   "metadata": {},
   "source": [
    "### 数据清洗和预处理\n",
    "数据清洗对于任何文本挖掘任务来说都非常重要，在这个任务中，去除非中文词及标点符号，指定特殊名词整体，使用停用词并分词等。"
   ]
  },
  {
   "cell_type": "code",
   "execution_count": 1,
   "metadata": {},
   "outputs": [
    {
     "data": {
      "text/html": [
       "<div>\n",
       "<style scoped>\n",
       "    .dataframe tbody tr th:only-of-type {\n",
       "        vertical-align: middle;\n",
       "    }\n",
       "\n",
       "    .dataframe tbody tr th {\n",
       "        vertical-align: top;\n",
       "    }\n",
       "\n",
       "    .dataframe thead th {\n",
       "        text-align: right;\n",
       "    }\n",
       "</style>\n",
       "<table border=\"1\" class=\"dataframe\">\n",
       "  <thead>\n",
       "    <tr style=\"text-align: right;\">\n",
       "      <th></th>\n",
       "      <th>0</th>\n",
       "    </tr>\n",
       "  </thead>\n",
       "  <tbody>\n",
       "    <tr>\n",
       "      <th>0</th>\n",
       "      <td>对齐</td>\n",
       "    </tr>\n",
       "    <tr>\n",
       "      <th>1</th>\n",
       "      <td>🍀入园前注意事项：&amp;#x0A;入园需要携带身份证，查验绿色预约码（购票后卖方会发送含购票确认...</td>\n",
       "    </tr>\n",
       "    <tr>\n",
       "      <th>2</th>\n",
       "      <td>鄙人迪士尼也算是去过一次了😆&amp;#x0A;赶紧写下这个美丽的童话世界游玩攻略！&amp;#x0A;&amp;#...</td>\n",
       "    </tr>\n",
       "    <tr>\n",
       "      <th>3</th>\n",
       "      <td>首先原谅我私心重放这么多自己的照片，因为我觉得迪士尼真的太好出片了☺️一些项目和攻略照在后面...</td>\n",
       "    </tr>\n",
       "    <tr>\n",
       "      <th>4</th>\n",
       "      <td>上海迪士尼乐园，时间安排统计：&amp;#x0A;地铁11号线迪士尼站，早上八点抵达，40分钟排队，...</td>\n",
       "    </tr>\n",
       "  </tbody>\n",
       "</table>\n",
       "</div>"
      ],
      "text/plain": [
       "                                                   0\n",
       "0                                                 对齐\n",
       "1  🍀入园前注意事项：&#x0A;入园需要携带身份证，查验绿色预约码（购票后卖方会发送含购票确认...\n",
       "2  鄙人迪士尼也算是去过一次了😆&#x0A;赶紧写下这个美丽的童话世界游玩攻略！&#x0A;&#...\n",
       "3  首先原谅我私心重放这么多自己的照片，因为我觉得迪士尼真的太好出片了☺️一些项目和攻略照在后面...\n",
       "4  上海迪士尼乐园，时间安排统计：&#x0A;地铁11号线迪士尼站，早上八点抵达，40分钟排队，..."
      ]
     },
     "execution_count": 1,
     "metadata": {},
     "output_type": "execute_result"
    }
   ],
   "source": [
    "import jieba\n",
    "import pandas as pd\n",
    "name = 'T-P'\n",
    "data_1_input = 'C:\\\\Users\\\\lenovo\\\\Desktop\\\\'+name+'.txt'\n",
    "data_1_ch = 'C:\\\\Users\\\\lenovo\\\\Desktop\\\\ch_'+name+'.txt'\n",
    "data_1_cut = 'C:\\\\Users\\\\lenovo\\\\Desktop\\\\cut_'+name+'.txt'\n",
    "data_1_output = 'C:\\\\Users\\\\lenovo\\\\Desktop\\\\X_'+name+'.txt'\n",
    "data_1 = pd.read_csv(data_1_input ,sep='\\n',header=None) #加载papa.txt,指定它的分隔符是 \\t\n",
    "data_1.head() #显示数据的前几行"
   ]
  },
  {
   "cell_type": "code",
   "execution_count": 2,
   "metadata": {},
   "outputs": [],
   "source": [
    "# 去除非中文词（英文；标点符号；及表情等-->纯汉语文字）\n",
    "f = open(data_1_input, 'r', encoding= 'utf-8', errors= 'ignore')  #将文本格式编码为utf-8，防止编码错误\n",
    "fw = open(data_1_ch,'w', encoding='utf-8',errors= 'ignore')\n",
    "for line in f:\n",
    "    constr = ''\n",
    "    for uchar in line:\n",
    "        if uchar >= u'\\u4e00' and uchar <= u'\\u9fa5':\n",
    "            if uchar != ' ':\n",
    "                constr += uchar\n",
    "    fw.write(constr+'\\n')\n",
    "fw.close()\n",
    "f.close()"
   ]
  },
  {
   "cell_type": "code",
   "execution_count": 3,
   "metadata": {},
   "outputs": [
    {
     "name": "stderr",
     "output_type": "stream",
     "text": [
      "Building prefix dict from the default dictionary ...\n",
      "Loading model from cache C:\\Users\\lenovo\\AppData\\Local\\Temp\\jieba.cache\n",
      "Loading model cost 0.951 seconds.\n",
      "Prefix dict has been built successfully.\n"
     ]
    },
    {
     "data": {
      "text/plain": [
       "1"
      ]
     },
     "execution_count": 3,
     "metadata": {},
     "output_type": "execute_result"
    }
   ],
   "source": [
    "# 框定完整特殊词汇\n",
    "jieba.suggest_freq('words.txt', True) # 整词表\n"
   ]
  },
  {
   "cell_type": "code",
   "execution_count": 4,
   "metadata": {
    "scrolled": true
   },
   "outputs": [
    {
     "name": "stdout",
     "output_type": "stream",
     "text": [
      "0                                                       对齐\n",
      "1        入园 前 注意事项 入园 需要 携带 身份证 查验 绿色 预约 码 购票 后 卖方 会 发送...\n",
      "2        鄙人 迪士尼 也 算是 去过 一次 了 赶紧 写下 这个 美丽 的 童话世界 游玩 攻略 写...\n",
      "3        首先 原谅 我 私心 重 放 这么 多 自己 的 照片 因为 我 觉得 迪士尼 真的 太好 ...\n",
      "4        上海 迪士尼 乐园 时间 安排 统计 地铁 号线 迪士尼 站 早上 八点 抵达 分钟 排队 ...\n",
      "                               ...                        \n",
      "16668    总体 评分 还是 给 了 三颗 星 最 主要 还是 因为 超超 超级 多 的 游客 导致 的...\n",
      "16669    一定 要 去 最好 避开 节假日 而且 最好 能 买 早 享卡 这样 会 节约 很多 排队 ...\n",
      "16670    上海 迪士尼 乐园 是 中国 内地 首座 迪士尼 主题乐园 人 真的 超级 多 早上 七点 ...\n",
      "16671    乐园 还算大带 着 四五岁 的 孩子 要 玩 两天 当然 里面 的 消费 真的 很 贵 两个...\n",
      "16672    迪士尼 乐园 其实 不用 多 介绍 了 说 说 本 喵 的 经历 吧 我 是 出差 正好 遇...\n",
      "Name: 0, Length: 16673, dtype: object\n"
     ]
    }
   ],
   "source": [
    "data_1 = pd.read_csv(data_1_ch ,sep='\\n',header=None)\n",
    "mycut = lambda s:' '.join(jieba.lcut(s))\n",
    "data1 = data_1[0].apply(mycut)\n",
    "print(data1)\n",
    "data1.to_csv(data_1_cut, index=False, header=False, encoding='UTF-8')"
   ]
  },
  {
   "cell_type": "code",
   "execution_count": 5,
   "metadata": {},
   "outputs": [],
   "source": [
    "# 引入停用词表\n",
    "stopwordspath = \"text/stopwords.txt\"\n",
    "stopwords = [line.strip() for line in open(stopwordspath, 'r', encoding='utf-8').readlines()] #分别读取停用词表里的每一个词，\n",
    "                                                                                               #因为停用词表里的布局是一个词一行\n",
    "outstr=''\n",
    "with open(data_1_cut,'r', encoding='UTF-8') as f:\n",
    "    data1 = f.read()\n",
    "    for word in data1: #遍历分词后的每一个单词\n",
    "        if word not in stopwords: #如果这个单词不在停用表里面\n",
    "            if word != '/t': #且这个单词不是制表符\n",
    "                outstr += word #就将这个词添加到结果中\n",
    "with open(data_1_output, 'w',encoding='UTF-8') as f2:\n",
    "    f2.write(outstr)\n",
    "f.close()\n",
    "f2.close() \n",
    "# 文本输出结果可能存在多出空格"
   ]
  },
  {
   "cell_type": "code",
   "execution_count": null,
   "metadata": {},
   "outputs": [],
   "source": []
  }
 ],
 "metadata": {
  "kernelspec": {
   "display_name": "Python 3",
   "language": "python",
   "name": "python3"
  },
  "language_info": {
   "codemirror_mode": {
    "name": "ipython",
    "version": 3
   },
   "file_extension": ".py",
   "mimetype": "text/x-python",
   "name": "python",
   "nbconvert_exporter": "python",
   "pygments_lexer": "ipython3",
   "version": "3.7.3"
  }
 },
 "nbformat": 4,
 "nbformat_minor": 2
}
